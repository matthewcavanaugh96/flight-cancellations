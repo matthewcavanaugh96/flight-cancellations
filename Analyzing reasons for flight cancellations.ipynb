{
 "cells": [
  {
   "cell_type": "markdown",
   "id": "690f49b9-4fb6-43a5-af3b-56639a6001c9",
   "metadata": {},
   "source": [
    "# Flight cancellations in 2015"
   ]
  },
  {
   "cell_type": "code",
   "execution_count": 1,
   "id": "0140198a-e130-441f-b73e-8d785a600ab5",
   "metadata": {},
   "outputs": [],
   "source": [
    "import pandas as pd\n",
    "import matplotlib.pyplot as plt"
   ]
  },
  {
   "cell_type": "code",
   "execution_count": 2,
   "id": "92ce03f9-e7c4-40d5-83a7-72e10ba65fa8",
   "metadata": {},
   "outputs": [
    {
     "data": {
      "text/html": [
       "<div>\n",
       "<style scoped>\n",
       "    .dataframe tbody tr th:only-of-type {\n",
       "        vertical-align: middle;\n",
       "    }\n",
       "\n",
       "    .dataframe tbody tr th {\n",
       "        vertical-align: top;\n",
       "    }\n",
       "\n",
       "    .dataframe thead th {\n",
       "        text-align: right;\n",
       "    }\n",
       "</style>\n",
       "<table border=\"1\" class=\"dataframe\">\n",
       "  <thead>\n",
       "    <tr style=\"text-align: right;\">\n",
       "      <th></th>\n",
       "      <th>YEAR</th>\n",
       "      <th>MONTH</th>\n",
       "      <th>DAY_OF_MONTH</th>\n",
       "      <th>DAY_OF_WEEK</th>\n",
       "      <th>AIRLINE</th>\n",
       "      <th>TAIL_NUMBER</th>\n",
       "      <th>ORIGIN_AIRPORT</th>\n",
       "      <th>DESTINATION_AIRPORT</th>\n",
       "      <th>SCHEDULED_ARRIVAL</th>\n",
       "      <th>SCHEDULED_DEPARTURE</th>\n",
       "      <th>CANCELLED</th>\n",
       "      <th>CANCELLATION_REASON</th>\n",
       "      <th>DISTANCE</th>\n",
       "    </tr>\n",
       "  </thead>\n",
       "  <tbody>\n",
       "    <tr>\n",
       "      <th>0</th>\n",
       "      <td>2015</td>\n",
       "      <td>1</td>\n",
       "      <td>1</td>\n",
       "      <td>4</td>\n",
       "      <td>AA</td>\n",
       "      <td>N001AA</td>\n",
       "      <td>DFW</td>\n",
       "      <td>MEM</td>\n",
       "      <td>1345</td>\n",
       "      <td>1510</td>\n",
       "      <td>0</td>\n",
       "      <td>NaN</td>\n",
       "      <td>432.0</td>\n",
       "    </tr>\n",
       "    <tr>\n",
       "      <th>1</th>\n",
       "      <td>2015</td>\n",
       "      <td>1</td>\n",
       "      <td>1</td>\n",
       "      <td>4</td>\n",
       "      <td>AA</td>\n",
       "      <td>N001AA</td>\n",
       "      <td>MEM</td>\n",
       "      <td>DFW</td>\n",
       "      <td>1550</td>\n",
       "      <td>1730</td>\n",
       "      <td>0</td>\n",
       "      <td>NaN</td>\n",
       "      <td>432.0</td>\n",
       "    </tr>\n",
       "    <tr>\n",
       "      <th>2</th>\n",
       "      <td>2015</td>\n",
       "      <td>1</td>\n",
       "      <td>1</td>\n",
       "      <td>4</td>\n",
       "      <td>AA</td>\n",
       "      <td>N002AA</td>\n",
       "      <td>ORD</td>\n",
       "      <td>DFW</td>\n",
       "      <td>1845</td>\n",
       "      <td>2115</td>\n",
       "      <td>0</td>\n",
       "      <td>NaN</td>\n",
       "      <td>802.0</td>\n",
       "    </tr>\n",
       "    <tr>\n",
       "      <th>3</th>\n",
       "      <td>2015</td>\n",
       "      <td>1</td>\n",
       "      <td>1</td>\n",
       "      <td>4</td>\n",
       "      <td>AA</td>\n",
       "      <td>N003AA</td>\n",
       "      <td>DFW</td>\n",
       "      <td>ATL</td>\n",
       "      <td>1820</td>\n",
       "      <td>2120</td>\n",
       "      <td>0</td>\n",
       "      <td>NaN</td>\n",
       "      <td>731.0</td>\n",
       "    </tr>\n",
       "    <tr>\n",
       "      <th>4</th>\n",
       "      <td>2015</td>\n",
       "      <td>1</td>\n",
       "      <td>1</td>\n",
       "      <td>4</td>\n",
       "      <td>AA</td>\n",
       "      <td>N003AA</td>\n",
       "      <td>DFW</td>\n",
       "      <td>HDN</td>\n",
       "      <td>800</td>\n",
       "      <td>925</td>\n",
       "      <td>0</td>\n",
       "      <td>NaN</td>\n",
       "      <td>769.0</td>\n",
       "    </tr>\n",
       "    <tr>\n",
       "      <th>...</th>\n",
       "      <td>...</td>\n",
       "      <td>...</td>\n",
       "      <td>...</td>\n",
       "      <td>...</td>\n",
       "      <td>...</td>\n",
       "      <td>...</td>\n",
       "      <td>...</td>\n",
       "      <td>...</td>\n",
       "      <td>...</td>\n",
       "      <td>...</td>\n",
       "      <td>...</td>\n",
       "      <td>...</td>\n",
       "      <td>...</td>\n",
       "    </tr>\n",
       "    <tr>\n",
       "      <th>5819074</th>\n",
       "      <td>2015</td>\n",
       "      <td>12</td>\n",
       "      <td>31</td>\n",
       "      <td>4</td>\n",
       "      <td>WN</td>\n",
       "      <td>N969WN</td>\n",
       "      <td>BWI</td>\n",
       "      <td>BUF</td>\n",
       "      <td>1340</td>\n",
       "      <td>1445</td>\n",
       "      <td>0</td>\n",
       "      <td>NaN</td>\n",
       "      <td>281.0</td>\n",
       "    </tr>\n",
       "    <tr>\n",
       "      <th>5819075</th>\n",
       "      <td>2015</td>\n",
       "      <td>12</td>\n",
       "      <td>31</td>\n",
       "      <td>4</td>\n",
       "      <td>WN</td>\n",
       "      <td>N969WN</td>\n",
       "      <td>BWI</td>\n",
       "      <td>DAL</td>\n",
       "      <td>1735</td>\n",
       "      <td>2010</td>\n",
       "      <td>0</td>\n",
       "      <td>NaN</td>\n",
       "      <td>1209.0</td>\n",
       "    </tr>\n",
       "    <tr>\n",
       "      <th>5819076</th>\n",
       "      <td>2015</td>\n",
       "      <td>12</td>\n",
       "      <td>31</td>\n",
       "      <td>4</td>\n",
       "      <td>WN</td>\n",
       "      <td>N969WN</td>\n",
       "      <td>BWI</td>\n",
       "      <td>MHT</td>\n",
       "      <td>945</td>\n",
       "      <td>1100</td>\n",
       "      <td>0</td>\n",
       "      <td>NaN</td>\n",
       "      <td>377.0</td>\n",
       "    </tr>\n",
       "    <tr>\n",
       "      <th>5819077</th>\n",
       "      <td>2015</td>\n",
       "      <td>12</td>\n",
       "      <td>31</td>\n",
       "      <td>4</td>\n",
       "      <td>WN</td>\n",
       "      <td>N969WN</td>\n",
       "      <td>MHT</td>\n",
       "      <td>BWI</td>\n",
       "      <td>1130</td>\n",
       "      <td>1305</td>\n",
       "      <td>0</td>\n",
       "      <td>NaN</td>\n",
       "      <td>377.0</td>\n",
       "    </tr>\n",
       "    <tr>\n",
       "      <th>5819078</th>\n",
       "      <td>2015</td>\n",
       "      <td>12</td>\n",
       "      <td>31</td>\n",
       "      <td>4</td>\n",
       "      <td>WN</td>\n",
       "      <td>N969WN</td>\n",
       "      <td>MSY</td>\n",
       "      <td>BWI</td>\n",
       "      <td>535</td>\n",
       "      <td>900</td>\n",
       "      <td>0</td>\n",
       "      <td>NaN</td>\n",
       "      <td>998.0</td>\n",
       "    </tr>\n",
       "  </tbody>\n",
       "</table>\n",
       "<p>5819079 rows × 13 columns</p>\n",
       "</div>"
      ],
      "text/plain": [
       "         YEAR  MONTH  DAY_OF_MONTH  DAY_OF_WEEK AIRLINE TAIL_NUMBER  \\\n",
       "0        2015      1             1            4      AA      N001AA   \n",
       "1        2015      1             1            4      AA      N001AA   \n",
       "2        2015      1             1            4      AA      N002AA   \n",
       "3        2015      1             1            4      AA      N003AA   \n",
       "4        2015      1             1            4      AA      N003AA   \n",
       "...       ...    ...           ...          ...     ...         ...   \n",
       "5819074  2015     12            31            4      WN      N969WN   \n",
       "5819075  2015     12            31            4      WN      N969WN   \n",
       "5819076  2015     12            31            4      WN      N969WN   \n",
       "5819077  2015     12            31            4      WN      N969WN   \n",
       "5819078  2015     12            31            4      WN      N969WN   \n",
       "\n",
       "        ORIGIN_AIRPORT DESTINATION_AIRPORT  SCHEDULED_ARRIVAL  \\\n",
       "0                  DFW                 MEM               1345   \n",
       "1                  MEM                 DFW               1550   \n",
       "2                  ORD                 DFW               1845   \n",
       "3                  DFW                 ATL               1820   \n",
       "4                  DFW                 HDN                800   \n",
       "...                ...                 ...                ...   \n",
       "5819074            BWI                 BUF               1340   \n",
       "5819075            BWI                 DAL               1735   \n",
       "5819076            BWI                 MHT                945   \n",
       "5819077            MHT                 BWI               1130   \n",
       "5819078            MSY                 BWI                535   \n",
       "\n",
       "         SCHEDULED_DEPARTURE  CANCELLED CANCELLATION_REASON  DISTANCE  \n",
       "0                       1510          0                 NaN     432.0  \n",
       "1                       1730          0                 NaN     432.0  \n",
       "2                       2115          0                 NaN     802.0  \n",
       "3                       2120          0                 NaN     731.0  \n",
       "4                        925          0                 NaN     769.0  \n",
       "...                      ...        ...                 ...       ...  \n",
       "5819074                 1445          0                 NaN     281.0  \n",
       "5819075                 2010          0                 NaN    1209.0  \n",
       "5819076                 1100          0                 NaN     377.0  \n",
       "5819077                 1305          0                 NaN     377.0  \n",
       "5819078                  900          0                 NaN     998.0  \n",
       "\n",
       "[5819079 rows x 13 columns]"
      ]
     },
     "execution_count": 2,
     "metadata": {},
     "output_type": "execute_result"
    }
   ],
   "source": [
    "flights = pd.read_csv(\"/Users/matthewcavanaugh/Desktop/IOD Data camp/Project 1/final data/flights fixed 2.csv\")\n",
    "flights"
   ]
  },
  {
   "cell_type": "markdown",
   "id": "dc9a5606-6f0a-4bcb-8b47-c9258533535a",
   "metadata": {},
   "source": [
    "## DATA CLEANING\n",
    "#### For readability, let's change some technical terms into more standard ones. Replace airline codes with the names of the airlines, cancellation reason letter codes with the actual reasons, day of week numbers to the actual days, and month numbers with the actual months."
   ]
  },
  {
   "cell_type": "code",
   "execution_count": 3,
   "id": "c2b6344c-ada6-4461-b350-40af97edba47",
   "metadata": {},
   "outputs": [
    {
     "name": "stderr",
     "output_type": "stream",
     "text": [
      "/var/folders/cf/4zrkk0lx1nbdx9tpklpk4jc00000gn/T/ipykernel_94987/3163104562.py:1: FutureWarning: A value is trying to be set on a copy of a DataFrame or Series through chained assignment using an inplace method.\n",
      "The behavior will change in pandas 3.0. This inplace method will never work because the intermediate object on which we are setting values always behaves as a copy.\n",
      "\n",
      "For example, when doing 'df[col].method(value, inplace=True)', try using 'df.method({col: value}, inplace=True)' or df[col] = df[col].method(value) instead, to perform the operation inplace on the original object.\n",
      "\n",
      "\n",
      "  flights['AIRLINE'].replace({'UA': 'United', 'AA': 'American', 'US': 'US Airways', 'F9': 'Frontier', 'B6': 'JetBlue', 'OO': 'SkyWest', 'AS': 'Alaska', 'NK': 'Spirit', 'WN': 'Southwest', 'DL': 'Delta', 'EV': 'ExpressJet', 'HA': 'Hawaiian', 'MQ': 'American Eagle', 'VX': 'Virgin America'}, inplace=True)\n"
     ]
    }
   ],
   "source": [
    "flights['AIRLINE'].replace({'UA': 'United', 'AA': 'American', 'US': 'US Airways', 'F9': 'Frontier', 'B6': 'JetBlue', 'OO': 'SkyWest', 'AS': 'Alaska', 'NK': 'Spirit', 'WN': 'Southwest', 'DL': 'Delta', 'EV': 'ExpressJet', 'HA': 'Hawaiian', 'MQ': 'American Eagle', 'VX': 'Virgin America'}, inplace=True)"
   ]
  },
  {
   "cell_type": "code",
   "execution_count": 4,
   "id": "6e0caaa5-2da6-4c82-8506-2f34ae53b45c",
   "metadata": {},
   "outputs": [
    {
     "name": "stderr",
     "output_type": "stream",
     "text": [
      "/var/folders/cf/4zrkk0lx1nbdx9tpklpk4jc00000gn/T/ipykernel_94987/1734622375.py:1: FutureWarning: A value is trying to be set on a copy of a DataFrame or Series through chained assignment using an inplace method.\n",
      "The behavior will change in pandas 3.0. This inplace method will never work because the intermediate object on which we are setting values always behaves as a copy.\n",
      "\n",
      "For example, when doing 'df[col].method(value, inplace=True)', try using 'df.method({col: value}, inplace=True)' or df[col] = df[col].method(value) instead, to perform the operation inplace on the original object.\n",
      "\n",
      "\n",
      "  flights['CANCELLATION_REASON'].replace({'A': 'Carrier', 'B': 'Weather', 'C': 'National Aviation System', 'D': 'Security'}, inplace=True)\n"
     ]
    }
   ],
   "source": [
    "flights['CANCELLATION_REASON'].replace({'A': 'Carrier', 'B': 'Weather', 'C': 'National Aviation System', 'D': 'Security'}, inplace=True) "
   ]
  },
  {
   "cell_type": "code",
   "execution_count": 5,
   "id": "0fc45b6a-5576-4e7a-81f2-1ef632516d51",
   "metadata": {},
   "outputs": [
    {
     "name": "stderr",
     "output_type": "stream",
     "text": [
      "/var/folders/cf/4zrkk0lx1nbdx9tpklpk4jc00000gn/T/ipykernel_94987/3309792811.py:11: FutureWarning: Setting an item of incompatible dtype is deprecated and will raise in a future error of pandas. Value '['Thursday' 'Thursday' 'Thursday' ... 'Thursday' 'Thursday' 'Thursday']' has dtype incompatible with int64, please explicitly cast to a compatible dtype first.\n",
      "  flights.loc[:, 'DAY_OF_WEEK'] = flights['DAY_OF_WEEK'].map(day_map)\n"
     ]
    }
   ],
   "source": [
    "day_map = {\n",
    "    1: 'Monday',\n",
    "    2: 'Tuesday',\n",
    "    3: 'Wednesday',\n",
    "    4: 'Thursday',\n",
    "    5: 'Friday',\n",
    "    6: 'Saturday',\n",
    "    7: 'Sunday'\n",
    "}\n",
    "\n",
    "flights.loc[:, 'DAY_OF_WEEK'] = flights['DAY_OF_WEEK'].map(day_map)"
   ]
  },
  {
   "cell_type": "code",
   "execution_count": 6,
   "id": "5ee46e43-1e74-4064-a619-f22f97f9b2ee",
   "metadata": {},
   "outputs": [
    {
     "name": "stderr",
     "output_type": "stream",
     "text": [
      "/var/folders/cf/4zrkk0lx1nbdx9tpklpk4jc00000gn/T/ipykernel_94987/1107376981.py:17: FutureWarning: Setting an item of incompatible dtype is deprecated and will raise in a future error of pandas. Value '['January' 'January' 'January' ... 'December' 'December' 'December']' has dtype incompatible with int64, please explicitly cast to a compatible dtype first.\n",
      "  flights.loc[:, 'MONTH'] = flights['MONTH'].map(month_map)\n"
     ]
    }
   ],
   "source": [
    "month_map = {\n",
    "    1: 'January',\n",
    "    2: 'February',\n",
    "    3: 'March',\n",
    "    4: 'April',\n",
    "    5: 'May',\n",
    "    6: 'June',\n",
    "    7: 'July',\n",
    "    8: 'August',\n",
    "    9: 'September',\n",
    "    10: 'October',\n",
    "    11: 'November',\n",
    "    12: 'December'\n",
    "}\n",
    "\n",
    "\n",
    "flights.loc[:, 'MONTH'] = flights['MONTH'].map(month_map)"
   ]
  },
  {
   "cell_type": "code",
   "execution_count": 7,
   "id": "712b96bc-b4c9-40c2-b27a-052ef4043f28",
   "metadata": {},
   "outputs": [
    {
     "data": {
      "text/html": [
       "<div>\n",
       "<style scoped>\n",
       "    .dataframe tbody tr th:only-of-type {\n",
       "        vertical-align: middle;\n",
       "    }\n",
       "\n",
       "    .dataframe tbody tr th {\n",
       "        vertical-align: top;\n",
       "    }\n",
       "\n",
       "    .dataframe thead th {\n",
       "        text-align: right;\n",
       "    }\n",
       "</style>\n",
       "<table border=\"1\" class=\"dataframe\">\n",
       "  <thead>\n",
       "    <tr style=\"text-align: right;\">\n",
       "      <th></th>\n",
       "      <th>YEAR</th>\n",
       "      <th>MONTH</th>\n",
       "      <th>DAY_OF_MONTH</th>\n",
       "      <th>DAY_OF_WEEK</th>\n",
       "      <th>AIRLINE</th>\n",
       "      <th>TAIL_NUMBER</th>\n",
       "      <th>ORIGIN_AIRPORT</th>\n",
       "      <th>DESTINATION_AIRPORT</th>\n",
       "      <th>SCHEDULED_ARRIVAL</th>\n",
       "      <th>SCHEDULED_DEPARTURE</th>\n",
       "      <th>CANCELLED</th>\n",
       "      <th>CANCELLATION_REASON</th>\n",
       "      <th>DISTANCE</th>\n",
       "    </tr>\n",
       "  </thead>\n",
       "  <tbody>\n",
       "    <tr>\n",
       "      <th>0</th>\n",
       "      <td>2015</td>\n",
       "      <td>January</td>\n",
       "      <td>1</td>\n",
       "      <td>Thursday</td>\n",
       "      <td>American</td>\n",
       "      <td>N001AA</td>\n",
       "      <td>DFW</td>\n",
       "      <td>MEM</td>\n",
       "      <td>1345</td>\n",
       "      <td>1510</td>\n",
       "      <td>0</td>\n",
       "      <td>NaN</td>\n",
       "      <td>432.0</td>\n",
       "    </tr>\n",
       "    <tr>\n",
       "      <th>1</th>\n",
       "      <td>2015</td>\n",
       "      <td>January</td>\n",
       "      <td>1</td>\n",
       "      <td>Thursday</td>\n",
       "      <td>American</td>\n",
       "      <td>N001AA</td>\n",
       "      <td>MEM</td>\n",
       "      <td>DFW</td>\n",
       "      <td>1550</td>\n",
       "      <td>1730</td>\n",
       "      <td>0</td>\n",
       "      <td>NaN</td>\n",
       "      <td>432.0</td>\n",
       "    </tr>\n",
       "    <tr>\n",
       "      <th>2</th>\n",
       "      <td>2015</td>\n",
       "      <td>January</td>\n",
       "      <td>1</td>\n",
       "      <td>Thursday</td>\n",
       "      <td>American</td>\n",
       "      <td>N002AA</td>\n",
       "      <td>ORD</td>\n",
       "      <td>DFW</td>\n",
       "      <td>1845</td>\n",
       "      <td>2115</td>\n",
       "      <td>0</td>\n",
       "      <td>NaN</td>\n",
       "      <td>802.0</td>\n",
       "    </tr>\n",
       "    <tr>\n",
       "      <th>3</th>\n",
       "      <td>2015</td>\n",
       "      <td>January</td>\n",
       "      <td>1</td>\n",
       "      <td>Thursday</td>\n",
       "      <td>American</td>\n",
       "      <td>N003AA</td>\n",
       "      <td>DFW</td>\n",
       "      <td>ATL</td>\n",
       "      <td>1820</td>\n",
       "      <td>2120</td>\n",
       "      <td>0</td>\n",
       "      <td>NaN</td>\n",
       "      <td>731.0</td>\n",
       "    </tr>\n",
       "    <tr>\n",
       "      <th>4</th>\n",
       "      <td>2015</td>\n",
       "      <td>January</td>\n",
       "      <td>1</td>\n",
       "      <td>Thursday</td>\n",
       "      <td>American</td>\n",
       "      <td>N003AA</td>\n",
       "      <td>DFW</td>\n",
       "      <td>HDN</td>\n",
       "      <td>800</td>\n",
       "      <td>925</td>\n",
       "      <td>0</td>\n",
       "      <td>NaN</td>\n",
       "      <td>769.0</td>\n",
       "    </tr>\n",
       "  </tbody>\n",
       "</table>\n",
       "</div>"
      ],
      "text/plain": [
       "   YEAR    MONTH  DAY_OF_MONTH DAY_OF_WEEK   AIRLINE TAIL_NUMBER  \\\n",
       "0  2015  January             1    Thursday  American      N001AA   \n",
       "1  2015  January             1    Thursday  American      N001AA   \n",
       "2  2015  January             1    Thursday  American      N002AA   \n",
       "3  2015  January             1    Thursday  American      N003AA   \n",
       "4  2015  January             1    Thursday  American      N003AA   \n",
       "\n",
       "  ORIGIN_AIRPORT DESTINATION_AIRPORT  SCHEDULED_ARRIVAL  SCHEDULED_DEPARTURE  \\\n",
       "0            DFW                 MEM               1345                 1510   \n",
       "1            MEM                 DFW               1550                 1730   \n",
       "2            ORD                 DFW               1845                 2115   \n",
       "3            DFW                 ATL               1820                 2120   \n",
       "4            DFW                 HDN                800                  925   \n",
       "\n",
       "   CANCELLED CANCELLATION_REASON  DISTANCE  \n",
       "0          0                 NaN     432.0  \n",
       "1          0                 NaN     432.0  \n",
       "2          0                 NaN     802.0  \n",
       "3          0                 NaN     731.0  \n",
       "4          0                 NaN     769.0  "
      ]
     },
     "execution_count": 7,
     "metadata": {},
     "output_type": "execute_result"
    }
   ],
   "source": [
    "flights.head()"
   ]
  },
  {
   "cell_type": "markdown",
   "id": "12af0296-40b0-475d-9a4f-226faa25db4a",
   "metadata": {},
   "source": [
    "### Replace the three-letter IATA airport codes with the full names of the airports. To do this we'll need to use the airportsdata package."
   ]
  },
  {
   "cell_type": "code",
   "execution_count": 8,
   "id": "faecf8fc-6e12-4400-8bd5-ea668a596e7b",
   "metadata": {},
   "outputs": [
    {
     "name": "stdout",
     "output_type": "stream",
     "text": [
      "Requirement already satisfied: airportsdata in /opt/anaconda3/envs/IOD2/lib/python3.12/site-packages (20240806)\n"
     ]
    }
   ],
   "source": [
    "!pip install airportsdata"
   ]
  },
  {
   "cell_type": "code",
   "execution_count": 9,
   "id": "127a1939-d4e1-443e-9806-ae0aea965368",
   "metadata": {},
   "outputs": [],
   "source": [
    "import airportsdata\n",
    "\n",
    "airports = airportsdata.load(\"IATA\")\n",
    "\n",
    "def convert_airport_code_to_name(code):\n",
    "    try:\n",
    "        return airports[code][\"name\"]\n",
    "    except KeyError:\n",
    "        return \"Invalid\"\n",
    "\n",
    "\n",
    "flights['ORIGIN_AIRPORT'] = flights['ORIGIN_AIRPORT'].apply(convert_airport_code_to_name)\n",
    "flights['DESTINATION_AIRPORT'] = flights['DESTINATION_AIRPORT'].apply(convert_airport_code_to_name)"
   ]
  },
  {
   "cell_type": "markdown",
   "id": "ef73cd4b-e552-4f91-bae8-c67618b25ca4",
   "metadata": {},
   "source": [
    "#### We want reliably accurate counts of airports, so let's drop any rows with an invalid airport codes."
   ]
  },
  {
   "cell_type": "code",
   "execution_count": 10,
   "id": "9365f360-8243-4650-a464-15628620672b",
   "metadata": {},
   "outputs": [],
   "source": [
    "flights.drop(flights[flights['ORIGIN_AIRPORT'].str.contains('Invalid')].index, inplace=True)\n",
    "flights.drop(flights[flights['DESTINATION_AIRPORT'].str.contains('Invalid')].index, inplace=True)"
   ]
  },
  {
   "cell_type": "code",
   "execution_count": 11,
   "id": "ffda0729-b199-41fb-ad22-1b27d889b17c",
   "metadata": {},
   "outputs": [
    {
     "data": {
      "text/html": [
       "<div>\n",
       "<style scoped>\n",
       "    .dataframe tbody tr th:only-of-type {\n",
       "        vertical-align: middle;\n",
       "    }\n",
       "\n",
       "    .dataframe tbody tr th {\n",
       "        vertical-align: top;\n",
       "    }\n",
       "\n",
       "    .dataframe thead th {\n",
       "        text-align: right;\n",
       "    }\n",
       "</style>\n",
       "<table border=\"1\" class=\"dataframe\">\n",
       "  <thead>\n",
       "    <tr style=\"text-align: right;\">\n",
       "      <th></th>\n",
       "      <th>YEAR</th>\n",
       "      <th>MONTH</th>\n",
       "      <th>DAY_OF_MONTH</th>\n",
       "      <th>DAY_OF_WEEK</th>\n",
       "      <th>AIRLINE</th>\n",
       "      <th>TAIL_NUMBER</th>\n",
       "      <th>ORIGIN_AIRPORT</th>\n",
       "      <th>DESTINATION_AIRPORT</th>\n",
       "      <th>SCHEDULED_ARRIVAL</th>\n",
       "      <th>SCHEDULED_DEPARTURE</th>\n",
       "      <th>CANCELLED</th>\n",
       "      <th>CANCELLATION_REASON</th>\n",
       "      <th>DISTANCE</th>\n",
       "    </tr>\n",
       "  </thead>\n",
       "  <tbody>\n",
       "    <tr>\n",
       "      <th>0</th>\n",
       "      <td>2015</td>\n",
       "      <td>January</td>\n",
       "      <td>1</td>\n",
       "      <td>Thursday</td>\n",
       "      <td>American</td>\n",
       "      <td>N001AA</td>\n",
       "      <td>Dallas-Fort Worth International Airport</td>\n",
       "      <td>Memphis International Airport</td>\n",
       "      <td>1345</td>\n",
       "      <td>1510</td>\n",
       "      <td>0</td>\n",
       "      <td>NaN</td>\n",
       "      <td>432.0</td>\n",
       "    </tr>\n",
       "    <tr>\n",
       "      <th>1</th>\n",
       "      <td>2015</td>\n",
       "      <td>January</td>\n",
       "      <td>1</td>\n",
       "      <td>Thursday</td>\n",
       "      <td>American</td>\n",
       "      <td>N001AA</td>\n",
       "      <td>Memphis International Airport</td>\n",
       "      <td>Dallas-Fort Worth International Airport</td>\n",
       "      <td>1550</td>\n",
       "      <td>1730</td>\n",
       "      <td>0</td>\n",
       "      <td>NaN</td>\n",
       "      <td>432.0</td>\n",
       "    </tr>\n",
       "    <tr>\n",
       "      <th>2</th>\n",
       "      <td>2015</td>\n",
       "      <td>January</td>\n",
       "      <td>1</td>\n",
       "      <td>Thursday</td>\n",
       "      <td>American</td>\n",
       "      <td>N002AA</td>\n",
       "      <td>Chicago O'Hare International Airport</td>\n",
       "      <td>Dallas-Fort Worth International Airport</td>\n",
       "      <td>1845</td>\n",
       "      <td>2115</td>\n",
       "      <td>0</td>\n",
       "      <td>NaN</td>\n",
       "      <td>802.0</td>\n",
       "    </tr>\n",
       "    <tr>\n",
       "      <th>3</th>\n",
       "      <td>2015</td>\n",
       "      <td>January</td>\n",
       "      <td>1</td>\n",
       "      <td>Thursday</td>\n",
       "      <td>American</td>\n",
       "      <td>N003AA</td>\n",
       "      <td>Dallas-Fort Worth International Airport</td>\n",
       "      <td>Hartsfield - Jackson Atlanta International Air...</td>\n",
       "      <td>1820</td>\n",
       "      <td>2120</td>\n",
       "      <td>0</td>\n",
       "      <td>NaN</td>\n",
       "      <td>731.0</td>\n",
       "    </tr>\n",
       "    <tr>\n",
       "      <th>4</th>\n",
       "      <td>2015</td>\n",
       "      <td>January</td>\n",
       "      <td>1</td>\n",
       "      <td>Thursday</td>\n",
       "      <td>American</td>\n",
       "      <td>N003AA</td>\n",
       "      <td>Dallas-Fort Worth International Airport</td>\n",
       "      <td>Yampa Valley Airport</td>\n",
       "      <td>800</td>\n",
       "      <td>925</td>\n",
       "      <td>0</td>\n",
       "      <td>NaN</td>\n",
       "      <td>769.0</td>\n",
       "    </tr>\n",
       "    <tr>\n",
       "      <th>...</th>\n",
       "      <td>...</td>\n",
       "      <td>...</td>\n",
       "      <td>...</td>\n",
       "      <td>...</td>\n",
       "      <td>...</td>\n",
       "      <td>...</td>\n",
       "      <td>...</td>\n",
       "      <td>...</td>\n",
       "      <td>...</td>\n",
       "      <td>...</td>\n",
       "      <td>...</td>\n",
       "      <td>...</td>\n",
       "      <td>...</td>\n",
       "    </tr>\n",
       "    <tr>\n",
       "      <th>5819074</th>\n",
       "      <td>2015</td>\n",
       "      <td>December</td>\n",
       "      <td>31</td>\n",
       "      <td>Thursday</td>\n",
       "      <td>Southwest</td>\n",
       "      <td>N969WN</td>\n",
       "      <td>Baltimore/Washington International Thurgood Ma...</td>\n",
       "      <td>Buffalo Niagara International Airport</td>\n",
       "      <td>1340</td>\n",
       "      <td>1445</td>\n",
       "      <td>0</td>\n",
       "      <td>NaN</td>\n",
       "      <td>281.0</td>\n",
       "    </tr>\n",
       "    <tr>\n",
       "      <th>5819075</th>\n",
       "      <td>2015</td>\n",
       "      <td>December</td>\n",
       "      <td>31</td>\n",
       "      <td>Thursday</td>\n",
       "      <td>Southwest</td>\n",
       "      <td>N969WN</td>\n",
       "      <td>Baltimore/Washington International Thurgood Ma...</td>\n",
       "      <td>Dallas Love Field</td>\n",
       "      <td>1735</td>\n",
       "      <td>2010</td>\n",
       "      <td>0</td>\n",
       "      <td>NaN</td>\n",
       "      <td>1209.0</td>\n",
       "    </tr>\n",
       "    <tr>\n",
       "      <th>5819076</th>\n",
       "      <td>2015</td>\n",
       "      <td>December</td>\n",
       "      <td>31</td>\n",
       "      <td>Thursday</td>\n",
       "      <td>Southwest</td>\n",
       "      <td>N969WN</td>\n",
       "      <td>Baltimore/Washington International Thurgood Ma...</td>\n",
       "      <td>Manchester Boston Regional Airport</td>\n",
       "      <td>945</td>\n",
       "      <td>1100</td>\n",
       "      <td>0</td>\n",
       "      <td>NaN</td>\n",
       "      <td>377.0</td>\n",
       "    </tr>\n",
       "    <tr>\n",
       "      <th>5819077</th>\n",
       "      <td>2015</td>\n",
       "      <td>December</td>\n",
       "      <td>31</td>\n",
       "      <td>Thursday</td>\n",
       "      <td>Southwest</td>\n",
       "      <td>N969WN</td>\n",
       "      <td>Manchester Boston Regional Airport</td>\n",
       "      <td>Baltimore/Washington International Thurgood Ma...</td>\n",
       "      <td>1130</td>\n",
       "      <td>1305</td>\n",
       "      <td>0</td>\n",
       "      <td>NaN</td>\n",
       "      <td>377.0</td>\n",
       "    </tr>\n",
       "    <tr>\n",
       "      <th>5819078</th>\n",
       "      <td>2015</td>\n",
       "      <td>December</td>\n",
       "      <td>31</td>\n",
       "      <td>Thursday</td>\n",
       "      <td>Southwest</td>\n",
       "      <td>N969WN</td>\n",
       "      <td>Louis Armstrong New Orleans International Airport</td>\n",
       "      <td>Baltimore/Washington International Thurgood Ma...</td>\n",
       "      <td>535</td>\n",
       "      <td>900</td>\n",
       "      <td>0</td>\n",
       "      <td>NaN</td>\n",
       "      <td>998.0</td>\n",
       "    </tr>\n",
       "  </tbody>\n",
       "</table>\n",
       "<p>5813554 rows × 13 columns</p>\n",
       "</div>"
      ],
      "text/plain": [
       "         YEAR     MONTH  DAY_OF_MONTH DAY_OF_WEEK    AIRLINE TAIL_NUMBER  \\\n",
       "0        2015   January             1    Thursday   American      N001AA   \n",
       "1        2015   January             1    Thursday   American      N001AA   \n",
       "2        2015   January             1    Thursday   American      N002AA   \n",
       "3        2015   January             1    Thursday   American      N003AA   \n",
       "4        2015   January             1    Thursday   American      N003AA   \n",
       "...       ...       ...           ...         ...        ...         ...   \n",
       "5819074  2015  December            31    Thursday  Southwest      N969WN   \n",
       "5819075  2015  December            31    Thursday  Southwest      N969WN   \n",
       "5819076  2015  December            31    Thursday  Southwest      N969WN   \n",
       "5819077  2015  December            31    Thursday  Southwest      N969WN   \n",
       "5819078  2015  December            31    Thursday  Southwest      N969WN   \n",
       "\n",
       "                                            ORIGIN_AIRPORT  \\\n",
       "0                  Dallas-Fort Worth International Airport   \n",
       "1                            Memphis International Airport   \n",
       "2                     Chicago O'Hare International Airport   \n",
       "3                  Dallas-Fort Worth International Airport   \n",
       "4                  Dallas-Fort Worth International Airport   \n",
       "...                                                    ...   \n",
       "5819074  Baltimore/Washington International Thurgood Ma...   \n",
       "5819075  Baltimore/Washington International Thurgood Ma...   \n",
       "5819076  Baltimore/Washington International Thurgood Ma...   \n",
       "5819077                 Manchester Boston Regional Airport   \n",
       "5819078  Louis Armstrong New Orleans International Airport   \n",
       "\n",
       "                                       DESTINATION_AIRPORT  SCHEDULED_ARRIVAL  \\\n",
       "0                            Memphis International Airport               1345   \n",
       "1                  Dallas-Fort Worth International Airport               1550   \n",
       "2                  Dallas-Fort Worth International Airport               1845   \n",
       "3        Hartsfield - Jackson Atlanta International Air...               1820   \n",
       "4                                     Yampa Valley Airport                800   \n",
       "...                                                    ...                ...   \n",
       "5819074              Buffalo Niagara International Airport               1340   \n",
       "5819075                                  Dallas Love Field               1735   \n",
       "5819076                 Manchester Boston Regional Airport                945   \n",
       "5819077  Baltimore/Washington International Thurgood Ma...               1130   \n",
       "5819078  Baltimore/Washington International Thurgood Ma...                535   \n",
       "\n",
       "         SCHEDULED_DEPARTURE  CANCELLED CANCELLATION_REASON  DISTANCE  \n",
       "0                       1510          0                 NaN     432.0  \n",
       "1                       1730          0                 NaN     432.0  \n",
       "2                       2115          0                 NaN     802.0  \n",
       "3                       2120          0                 NaN     731.0  \n",
       "4                        925          0                 NaN     769.0  \n",
       "...                      ...        ...                 ...       ...  \n",
       "5819074                 1445          0                 NaN     281.0  \n",
       "5819075                 2010          0                 NaN    1209.0  \n",
       "5819076                 1100          0                 NaN     377.0  \n",
       "5819077                 1305          0                 NaN     377.0  \n",
       "5819078                  900          0                 NaN     998.0  \n",
       "\n",
       "[5813554 rows x 13 columns]"
      ]
     },
     "execution_count": 11,
     "metadata": {},
     "output_type": "execute_result"
    }
   ],
   "source": [
    "flights"
   ]
  },
  {
   "cell_type": "markdown",
   "id": "5b28e86c-9d65-4564-afcd-b23bbab97ec8",
   "metadata": {},
   "source": [
    "### Now create a subset of only flights that were cancelled. \n",
    "\n",
    "### We will use both the subset and the full set in this lab."
   ]
  },
  {
   "cell_type": "code",
   "execution_count": 12,
   "id": "b68e9b15-1be5-4cbf-914f-19dc6c3e6c86",
   "metadata": {},
   "outputs": [
    {
     "data": {
      "text/html": [
       "<div>\n",
       "<style scoped>\n",
       "    .dataframe tbody tr th:only-of-type {\n",
       "        vertical-align: middle;\n",
       "    }\n",
       "\n",
       "    .dataframe tbody tr th {\n",
       "        vertical-align: top;\n",
       "    }\n",
       "\n",
       "    .dataframe thead th {\n",
       "        text-align: right;\n",
       "    }\n",
       "</style>\n",
       "<table border=\"1\" class=\"dataframe\">\n",
       "  <thead>\n",
       "    <tr style=\"text-align: right;\">\n",
       "      <th></th>\n",
       "      <th>YEAR</th>\n",
       "      <th>MONTH</th>\n",
       "      <th>DAY_OF_MONTH</th>\n",
       "      <th>DAY_OF_WEEK</th>\n",
       "      <th>AIRLINE</th>\n",
       "      <th>TAIL_NUMBER</th>\n",
       "      <th>ORIGIN_AIRPORT</th>\n",
       "      <th>DESTINATION_AIRPORT</th>\n",
       "      <th>SCHEDULED_ARRIVAL</th>\n",
       "      <th>SCHEDULED_DEPARTURE</th>\n",
       "      <th>CANCELLED</th>\n",
       "      <th>CANCELLATION_REASON</th>\n",
       "      <th>DISTANCE</th>\n",
       "    </tr>\n",
       "  </thead>\n",
       "  <tbody>\n",
       "    <tr>\n",
       "      <th>7</th>\n",
       "      <td>2015</td>\n",
       "      <td>January</td>\n",
       "      <td>1</td>\n",
       "      <td>Thursday</td>\n",
       "      <td>American</td>\n",
       "      <td>N005AA</td>\n",
       "      <td>Dallas-Fort Worth International Airport</td>\n",
       "      <td>Chicago O'Hare International Airport</td>\n",
       "      <td>740</td>\n",
       "      <td>955</td>\n",
       "      <td>1</td>\n",
       "      <td>Weather</td>\n",
       "      <td>802.0</td>\n",
       "    </tr>\n",
       "    <tr>\n",
       "      <th>8</th>\n",
       "      <td>2015</td>\n",
       "      <td>January</td>\n",
       "      <td>1</td>\n",
       "      <td>Thursday</td>\n",
       "      <td>American</td>\n",
       "      <td>N005AA</td>\n",
       "      <td>Eagle County Regional Airport</td>\n",
       "      <td>Chicago O'Hare International Airport</td>\n",
       "      <td>1415</td>\n",
       "      <td>1755</td>\n",
       "      <td>1</td>\n",
       "      <td>Carrier</td>\n",
       "      <td>1007.0</td>\n",
       "    </tr>\n",
       "    <tr>\n",
       "      <th>9</th>\n",
       "      <td>2015</td>\n",
       "      <td>January</td>\n",
       "      <td>1</td>\n",
       "      <td>Thursday</td>\n",
       "      <td>American</td>\n",
       "      <td>N005AA</td>\n",
       "      <td>Chicago O'Hare International Airport</td>\n",
       "      <td>Eagle County Regional Airport</td>\n",
       "      <td>1145</td>\n",
       "      <td>1335</td>\n",
       "      <td>1</td>\n",
       "      <td>Carrier</td>\n",
       "      <td>1007.0</td>\n",
       "    </tr>\n",
       "    <tr>\n",
       "      <th>11</th>\n",
       "      <td>2015</td>\n",
       "      <td>January</td>\n",
       "      <td>1</td>\n",
       "      <td>Thursday</td>\n",
       "      <td>American</td>\n",
       "      <td>N006AA</td>\n",
       "      <td>Dallas-Fort Worth International Airport</td>\n",
       "      <td>Hartsfield - Jackson Atlanta International Air...</td>\n",
       "      <td>1150</td>\n",
       "      <td>1445</td>\n",
       "      <td>1</td>\n",
       "      <td>Weather</td>\n",
       "      <td>731.0</td>\n",
       "    </tr>\n",
       "    <tr>\n",
       "      <th>18</th>\n",
       "      <td>2015</td>\n",
       "      <td>January</td>\n",
       "      <td>1</td>\n",
       "      <td>Thursday</td>\n",
       "      <td>American</td>\n",
       "      <td>N010AA</td>\n",
       "      <td>Dallas-Fort Worth International Airport</td>\n",
       "      <td>Louisville Muhammad Ali International Airport</td>\n",
       "      <td>1145</td>\n",
       "      <td>1440</td>\n",
       "      <td>1</td>\n",
       "      <td>Weather</td>\n",
       "      <td>733.0</td>\n",
       "    </tr>\n",
       "    <tr>\n",
       "      <th>...</th>\n",
       "      <td>...</td>\n",
       "      <td>...</td>\n",
       "      <td>...</td>\n",
       "      <td>...</td>\n",
       "      <td>...</td>\n",
       "      <td>...</td>\n",
       "      <td>...</td>\n",
       "      <td>...</td>\n",
       "      <td>...</td>\n",
       "      <td>...</td>\n",
       "      <td>...</td>\n",
       "      <td>...</td>\n",
       "      <td>...</td>\n",
       "    </tr>\n",
       "    <tr>\n",
       "      <th>5815035</th>\n",
       "      <td>2015</td>\n",
       "      <td>December</td>\n",
       "      <td>31</td>\n",
       "      <td>Thursday</td>\n",
       "      <td>United</td>\n",
       "      <td>NaN</td>\n",
       "      <td>San Francisco International Airport</td>\n",
       "      <td>Los Angeles International Airport</td>\n",
       "      <td>2000</td>\n",
       "      <td>2136</td>\n",
       "      <td>1</td>\n",
       "      <td>Carrier</td>\n",
       "      <td>337.0</td>\n",
       "    </tr>\n",
       "    <tr>\n",
       "      <th>5815036</th>\n",
       "      <td>2015</td>\n",
       "      <td>December</td>\n",
       "      <td>31</td>\n",
       "      <td>Thursday</td>\n",
       "      <td>United</td>\n",
       "      <td>NaN</td>\n",
       "      <td>San Francisco International Airport</td>\n",
       "      <td>Portland International Airport</td>\n",
       "      <td>1045</td>\n",
       "      <td>1242</td>\n",
       "      <td>1</td>\n",
       "      <td>Carrier</td>\n",
       "      <td>550.0</td>\n",
       "    </tr>\n",
       "    <tr>\n",
       "      <th>5815037</th>\n",
       "      <td>2015</td>\n",
       "      <td>December</td>\n",
       "      <td>31</td>\n",
       "      <td>Thursday</td>\n",
       "      <td>United</td>\n",
       "      <td>NaN</td>\n",
       "      <td>Sacramento International Airport</td>\n",
       "      <td>Denver International Airport</td>\n",
       "      <td>1134</td>\n",
       "      <td>1502</td>\n",
       "      <td>1</td>\n",
       "      <td>Carrier</td>\n",
       "      <td>909.0</td>\n",
       "    </tr>\n",
       "    <tr>\n",
       "      <th>5817341</th>\n",
       "      <td>2015</td>\n",
       "      <td>December</td>\n",
       "      <td>31</td>\n",
       "      <td>Thursday</td>\n",
       "      <td>Southwest</td>\n",
       "      <td>N515SW</td>\n",
       "      <td>Austin-Bergstrom International Airport</td>\n",
       "      <td>Lubbock Preston Smith International Airport</td>\n",
       "      <td>1605</td>\n",
       "      <td>1715</td>\n",
       "      <td>1</td>\n",
       "      <td>Carrier</td>\n",
       "      <td>341.0</td>\n",
       "    </tr>\n",
       "    <tr>\n",
       "      <th>5818027</th>\n",
       "      <td>2015</td>\n",
       "      <td>December</td>\n",
       "      <td>31</td>\n",
       "      <td>Thursday</td>\n",
       "      <td>Southwest</td>\n",
       "      <td>N7712G</td>\n",
       "      <td>Dallas Love Field</td>\n",
       "      <td>Lubbock Preston Smith International Airport</td>\n",
       "      <td>1735</td>\n",
       "      <td>1840</td>\n",
       "      <td>1</td>\n",
       "      <td>Weather</td>\n",
       "      <td>293.0</td>\n",
       "    </tr>\n",
       "  </tbody>\n",
       "</table>\n",
       "<p>89828 rows × 13 columns</p>\n",
       "</div>"
      ],
      "text/plain": [
       "         YEAR     MONTH  DAY_OF_MONTH DAY_OF_WEEK    AIRLINE TAIL_NUMBER  \\\n",
       "7        2015   January             1    Thursday   American      N005AA   \n",
       "8        2015   January             1    Thursday   American      N005AA   \n",
       "9        2015   January             1    Thursday   American      N005AA   \n",
       "11       2015   January             1    Thursday   American      N006AA   \n",
       "18       2015   January             1    Thursday   American      N010AA   \n",
       "...       ...       ...           ...         ...        ...         ...   \n",
       "5815035  2015  December            31    Thursday     United         NaN   \n",
       "5815036  2015  December            31    Thursday     United         NaN   \n",
       "5815037  2015  December            31    Thursday     United         NaN   \n",
       "5817341  2015  December            31    Thursday  Southwest      N515SW   \n",
       "5818027  2015  December            31    Thursday  Southwest      N7712G   \n",
       "\n",
       "                                  ORIGIN_AIRPORT  \\\n",
       "7        Dallas-Fort Worth International Airport   \n",
       "8                  Eagle County Regional Airport   \n",
       "9           Chicago O'Hare International Airport   \n",
       "11       Dallas-Fort Worth International Airport   \n",
       "18       Dallas-Fort Worth International Airport   \n",
       "...                                          ...   \n",
       "5815035      San Francisco International Airport   \n",
       "5815036      San Francisco International Airport   \n",
       "5815037         Sacramento International Airport   \n",
       "5817341   Austin-Bergstrom International Airport   \n",
       "5818027                        Dallas Love Field   \n",
       "\n",
       "                                       DESTINATION_AIRPORT  SCHEDULED_ARRIVAL  \\\n",
       "7                     Chicago O'Hare International Airport                740   \n",
       "8                     Chicago O'Hare International Airport               1415   \n",
       "9                            Eagle County Regional Airport               1145   \n",
       "11       Hartsfield - Jackson Atlanta International Air...               1150   \n",
       "18           Louisville Muhammad Ali International Airport               1145   \n",
       "...                                                    ...                ...   \n",
       "5815035                  Los Angeles International Airport               2000   \n",
       "5815036                     Portland International Airport               1045   \n",
       "5815037                       Denver International Airport               1134   \n",
       "5817341        Lubbock Preston Smith International Airport               1605   \n",
       "5818027        Lubbock Preston Smith International Airport               1735   \n",
       "\n",
       "         SCHEDULED_DEPARTURE  CANCELLED CANCELLATION_REASON  DISTANCE  \n",
       "7                        955          1             Weather     802.0  \n",
       "8                       1755          1             Carrier    1007.0  \n",
       "9                       1335          1             Carrier    1007.0  \n",
       "11                      1445          1             Weather     731.0  \n",
       "18                      1440          1             Weather     733.0  \n",
       "...                      ...        ...                 ...       ...  \n",
       "5815035                 2136          1             Carrier     337.0  \n",
       "5815036                 1242          1             Carrier     550.0  \n",
       "5815037                 1502          1             Carrier     909.0  \n",
       "5817341                 1715          1             Carrier     341.0  \n",
       "5818027                 1840          1             Weather     293.0  \n",
       "\n",
       "[89828 rows x 13 columns]"
      ]
     },
     "execution_count": 12,
     "metadata": {},
     "output_type": "execute_result"
    }
   ],
   "source": [
    "cancelled = flights.dropna(subset=['CANCELLATION_REASON'])\n",
    "cancelled"
   ]
  },
  {
   "cell_type": "markdown",
   "id": "cb625730-173b-4225-a1e9-7d67529b2eb2",
   "metadata": {},
   "source": [
    "# CANCELLATIONS BY AIRLINE"
   ]
  },
  {
   "cell_type": "markdown",
   "id": "6f49e09f-2dee-41f0-9a23-a879841501a1",
   "metadata": {},
   "source": [
    "### How many flights did each airline have scheduled in 2015?"
   ]
  },
  {
   "cell_type": "code",
   "execution_count": 13,
   "id": "c7a50663-28bb-4c1c-894c-b0d19517e8a6",
   "metadata": {},
   "outputs": [
    {
     "data": {
      "text/plain": [
       "AIRLINE\n",
       "Southwest         1261855\n",
       "Delta              875881\n",
       "American           725984\n",
       "SkyWest            584000\n",
       "ExpressJet         570805\n",
       "United             515723\n",
       "American Eagle     294632\n",
       "JetBlue            267048\n",
       "US Airways         198715\n",
       "Alaska             172521\n",
       "Spirit             117379\n",
       "Frontier            90836\n",
       "Hawaiian            76272\n",
       "Virgin America      61903\n",
       "Name: count, dtype: int64"
      ]
     },
     "execution_count": 13,
     "metadata": {},
     "output_type": "execute_result"
    }
   ],
   "source": [
    "flights['AIRLINE'].value_counts()"
   ]
  },
  {
   "cell_type": "markdown",
   "id": "bdd4cdf4-995f-4e77-804b-19b497f35871",
   "metadata": {},
   "source": [
    "### How many flights did each airline cancel in 2015?"
   ]
  },
  {
   "cell_type": "code",
   "execution_count": 14,
   "id": "942795ad-2aa3-44e1-8c1b-3f48e7a9d519",
   "metadata": {},
   "outputs": [
    {
     "data": {
      "text/plain": [
       "AIRLINE\n",
       "Southwest         16043\n",
       "ExpressJet        15212\n",
       "American Eagle    15025\n",
       "American          10919\n",
       "SkyWest            9923\n",
       "United             6573\n",
       "JetBlue            4276\n",
       "US Airways         4067\n",
       "Delta              3824\n",
       "Spirit             2004\n",
       "Alaska              669\n",
       "Frontier            588\n",
       "Virgin America      534\n",
       "Hawaiian            171\n",
       "Name: count, dtype: int64"
      ]
     },
     "execution_count": 14,
     "metadata": {},
     "output_type": "execute_result"
    }
   ],
   "source": [
    "cancelled['AIRLINE'].value_counts()"
   ]
  },
  {
   "cell_type": "markdown",
   "id": "77a6db86-943a-4521-927e-0e9dcbac6f46",
   "metadata": {},
   "source": [
    "### This isn't a completely fair metric, as some airlines schedule many more flights than others. Let's look at the *percentage* of flights each airline had to cancel."
   ]
  },
  {
   "cell_type": "code",
   "execution_count": 15,
   "id": "0872ece5-1ecf-472e-960a-96963d8407ab",
   "metadata": {},
   "outputs": [
    {
     "data": {
      "text/plain": [
       "AIRLINE\n",
       "American Eagle    5.099582\n",
       "ExpressJet        2.665008\n",
       "US Airways        2.046650\n",
       "Spirit            1.707290\n",
       "SkyWest           1.699144\n",
       "JetBlue           1.601210\n",
       "American          1.504028\n",
       "United            1.274521\n",
       "Southwest         1.271382\n",
       "Virgin America    0.862640\n",
       "Frontier          0.647320\n",
       "Delta             0.436589\n",
       "Alaska            0.387779\n",
       "Hawaiian          0.224198\n",
       "Name: CANCELLATION_REASON, dtype: float64"
      ]
     },
     "execution_count": 15,
     "metadata": {},
     "output_type": "execute_result"
    }
   ],
   "source": [
    "cancelpctbyairline = flights.groupby('AIRLINE')['CANCELLATION_REASON'].apply(lambda x: x.notnull().sum() / len(x) * 100)\n",
    "cancelpctbyairline = cancelpctbyairline.sort_values(ascending=False)\n",
    "cancelpctbyairline"
   ]
  },
  {
   "cell_type": "code",
   "execution_count": 89,
   "id": "6dc9396a-24f0-47ea-9266-25b4533c933f",
   "metadata": {},
   "outputs": [
    {
     "data": {
      "image/png": "[encoded data removed]",
      "text/plain": [
       "<Figure size 640x480 with 1 Axes>"
      ]
     },
     "metadata": {},
     "output_type": "display_data"
    }
   ],
   "source": [
    "cancelpctbyairline = flights.groupby('AIRLINE')['CANCELLATION_REASON'].apply(lambda x: x.notnull().sum() / len(x) * 100)\n",
    "\n",
    "plt.bar(cancelpctbyairline.index, cancelpctbyairline.values)\n",
    "plt.xlabel('Airline')\n",
    "plt.ylabel('Percent of flights cancelled')\n",
    "plt.xticks(rotation=45, ha='right')\n",
    "plt.title('Percentage of flights cancelled by each airline')\n",
    "plt.savefig('Percentage of flights cancelled by each airline.png', bbox_inches='tight')\n",
    "plt.show()"
   ]
  },
  {
   "cell_type": "markdown",
   "id": "76bf93e6-1af5-4af6-8b4a-76179db6d7bc",
   "metadata": {},
   "source": [
    "# REASONS OVERVIEW"
   ]
  },
  {
   "cell_type": "markdown",
   "id": "ca34fe8f-eb54-4d8c-87a4-b57e5d102e63",
   "metadata": {},
   "source": [
    "### What were the most common reasons for flight cancellation?"
   ]
  },
  {
   "cell_type": "code",
   "execution_count": 16,
   "id": "7059f8a9-3813-437f-9516-5aedf2d3be70",
   "metadata": {},
   "outputs": [
    {
     "data": {
      "text/plain": [
       "CANCELLATION_REASON\n",
       "Weather                     48819\n",
       "Carrier                     25255\n",
       "National Aviation System    15732\n",
       "Security                       22\n",
       "Name: count, dtype: int64"
      ]
     },
     "execution_count": 16,
     "metadata": {},
     "output_type": "execute_result"
    }
   ],
   "source": [
    "cancelled['CANCELLATION_REASON'].value_counts()"
   ]
  },
  {
   "cell_type": "markdown",
   "id": "01a87418-cabc-426e-8b67-70290fb4a5cd",
   "metadata": {},
   "source": [
    "### What percentage of overall cancellations was due to each reason?"
   ]
  },
  {
   "cell_type": "code",
   "execution_count": 17,
   "id": "a39b1bf8-ace8-4a94-93e5-fb1a42207358",
   "metadata": {},
   "outputs": [
    {
     "data": {
      "text/plain": [
       "CANCELLATION_REASON\n",
       "Weather                     54.347197\n",
       "Carrier                     28.114842\n",
       "National Aviation System    17.513470\n",
       "Security                     0.024491\n",
       "Name: proportion, dtype: float64"
      ]
     },
     "execution_count": 17,
     "metadata": {},
     "output_type": "execute_result"
    }
   ],
   "source": [
    "reasonpcts = cancelled['CANCELLATION_REASON'].value_counts(normalize=True) * 100\n",
    "reasonpcts"
   ]
  },
  {
   "cell_type": "code",
   "execution_count": 18,
   "id": "e9c044de-4d18-4aa1-ad5e-0163848ea10e",
   "metadata": {},
   "outputs": [
    {
     "data": {
      "image/png": "[encoded data removed]",
      "text/plain": [
       "<Figure size 640x480 with 1 Axes>"
      ]
     },
     "metadata": {},
     "output_type": "display_data"
    }
   ],
   "source": [
    "plt.pie(reasonpcts, labels=reasonpcts.index, autopct='%1.1f%%')\n",
    "plt.title('Cancellation reasons by percentage')\n",
    "plt.tight_layout()\n",
    "plt.savefig('Cancellation reasons by percentage')\n",
    "plt.show()"
   ]
  },
  {
   "cell_type": "markdown",
   "id": "da43d32b-a6a7-435a-b9ed-4d2e11dae6bf",
   "metadata": {},
   "source": [
    "# BY AIRPORT"
   ]
  },
  {
   "cell_type": "markdown",
   "id": "ec72e353-db11-48ec-9aaa-6e551937df20",
   "metadata": {},
   "source": [
    "### Which airports had the highest percentage of arriving flights cancelled?"
   ]
  },
  {
   "cell_type": "code",
   "execution_count": 19,
   "id": "2c8000c0-9fda-4ad9-a72e-ec3ca7577aaf",
   "metadata": {},
   "outputs": [
    {
     "data": {
      "text/plain": [
       "DESTINATION_AIRPORT\n",
       "Ithaca Tompkins International Airport           11.428571\n",
       "Mammoth Yosemite Airport                        10.256410\n",
       "Devils Lake Regional Airport                     7.142857\n",
       "Adak Airport                                     6.666667\n",
       "Houghton County Memorial Airport                 6.584362\n",
       "Muskegon County Airport                          6.584362\n",
       "Lawton-Fort Sill Regional Airport                6.396149\n",
       "St Cloud Regional Airport                        6.097561\n",
       "Texarkana Regional-Webb Field                    5.921053\n",
       "Barkley Regional Airport                         5.769231\n",
       "Eugene F Kranz Toledo Express Airport            5.719733\n",
       "Dubuque Regional Airport                         5.615764\n",
       "Kodiak Airport                                   5.295316\n",
       "Jack Mc Namara Field                             5.263158\n",
       "Kalamazoo/Battle Creek International Airport     5.083884\n",
       "Roswell Air Center Airport                       4.976526\n",
       "Jack Brooks Regional Airport                     4.905660\n",
       "Waterloo Regional Airport                        4.747774\n",
       "University Of Illinois/Willard Airport           4.739336\n",
       "Lea County Regional Airport                      4.647436\n",
       "Name: CANCELLATION_REASON, dtype: float64"
      ]
     },
     "execution_count": 19,
     "metadata": {},
     "output_type": "execute_result"
    }
   ],
   "source": [
    "(flights.groupby('DESTINATION_AIRPORT')['CANCELLATION_REASON']\n",
    "    .apply(lambda x: 100 * x.notnull().sum() / len(x))\n",
    "    .sort_values(ascending=False)\n",
    "    .head(20)\n",
    ")"
   ]
  },
  {
   "cell_type": "markdown",
   "id": "a8a3b8cc-ed27-4f6f-8f55-92fa667fecac",
   "metadata": {},
   "source": [
    "### Which airports had the highest percentage of departing flights cancelled?"
   ]
  },
  {
   "cell_type": "code",
   "execution_count": 20,
   "id": "959013c4-ff65-48bb-923a-a3a42d3d9f51",
   "metadata": {},
   "outputs": [
    {
     "data": {
      "text/plain": [
       "ORIGIN_AIRPORT\n",
       "Ithaca Tompkins International Airport    11.764706\n",
       "Mammoth Yosemite Airport                 10.256410\n",
       "Friedman Memorial Airport                 8.840864\n",
       "Jack Mc Namara Field                      8.421053\n",
       "Devils Lake Regional Airport              8.013937\n",
       "Aspen-Pitkin County/Sardy Field           7.649820\n",
       "Lawton-Fort Sill Regional Airport         6.804124\n",
       "Muskegon County Airport                   6.721536\n",
       "Adak Airport                              6.666667\n",
       "Jamestown Regional Airport                6.651635\n",
       "Northeast Florida Regional Airport        6.508876\n",
       "Houghton County Memorial Airport          6.438356\n",
       "Barkley Regional Airport                  6.318681\n",
       "Texarkana Regional-Webb Field             6.191370\n",
       "Eugene F Kranz Toledo Express Airport     6.190476\n",
       "Jack Brooks Regional Airport              6.132075\n",
       "St Cloud Regional Airport                 6.024096\n",
       "Dubuque Regional Airport                  5.714286\n",
       "Roswell Air Center Airport                5.534709\n",
       "Kodiak Airport                            5.295316\n",
       "Name: CANCELLATION_REASON, dtype: float64"
      ]
     },
     "execution_count": 20,
     "metadata": {},
     "output_type": "execute_result"
    }
   ],
   "source": [
    "(flights.groupby('ORIGIN_AIRPORT')['CANCELLATION_REASON']\n",
    "    .apply(lambda x: 100 * x.notnull().sum() / len(x))\n",
    "    .sort_values(ascending=False)\n",
    "    .head(20)\n",
    ")"
   ]
  },
  {
   "cell_type": "code",
   "execution_count": null,
   "id": "b9015d2e-08a7-4302-ad57-880572393627",
   "metadata": {},
   "outputs": [],
   "source": []
  },
  {
   "cell_type": "markdown",
   "id": "555ccb3f-ecaa-45fa-b520-e0b60f19acfc",
   "metadata": {},
   "source": [
    "# BY DAY AND MONTH"
   ]
  },
  {
   "cell_type": "markdown",
   "id": "1bd7ec3a-f48a-4eec-ba24-dc2c510e40bb",
   "metadata": {},
   "source": [
    "### Which days of the week had the highest percentage of flights cancelled?"
   ]
  },
  {
   "cell_type": "code",
   "execution_count": 21,
   "id": "8345c703-94a5-487a-8b85-ffdbbd80cf63",
   "metadata": {},
   "outputs": [
    {
     "data": {
      "text/plain": [
       "DAY_OF_WEEK\n",
       "Monday       2.436020\n",
       "Tuesday      1.784290\n",
       "Sunday       1.610242\n",
       "Thursday     1.409488\n",
       "Wednesday    1.253721\n",
       "Saturday     1.249111\n",
       "Friday       1.021987\n",
       "Name: CANCELLATION_REASON, dtype: float64"
      ]
     },
     "execution_count": 21,
     "metadata": {},
     "output_type": "execute_result"
    }
   ],
   "source": [
    "(flights.groupby('DAY_OF_WEEK')['CANCELLATION_REASON']\n",
    "    .apply(lambda x: 100 * x.notnull().sum() / len(x))\n",
    "    .sort_values(ascending=False)\n",
    "    .head(20)\n",
    ")"
   ]
  },
  {
   "cell_type": "code",
   "execution_count": 22,
   "id": "66e7cbfd-9743-4052-a350-f0c50173b31c",
   "metadata": {},
   "outputs": [
    {
     "data": {
      "image/png": "[encoded data removed]",
      "text/plain": [
       "<Figure size 640x480 with 1 Axes>"
      ]
     },
     "metadata": {},
     "output_type": "display_data"
    }
   ],
   "source": [
    "daycancelpct = (flights.groupby('DAY_OF_WEEK')['CANCELLATION_REASON']\n",
    "    .apply(lambda x: 100 * x.notnull().sum() / len(x))\n",
    "    .sort_values(ascending=False)\n",
    "    .head(20)\n",
    ")\n",
    "\n",
    "plt.bar(daycancelpct.index, daycancelpct.values)\n",
    "plt.xlabel('Day of week')\n",
    "plt.ylabel('Percentage of flights cancelled')\n",
    "plt.xticks(rotation=45, ha='right')\n",
    "plt.title('Percentage of flights cancelled on each day of the week')\n",
    "plt.savefig('Percentage of flights cancelled on each day of the week.png', bbox_inches='tight')\n",
    "plt.show()"
   ]
  },
  {
   "cell_type": "markdown",
   "id": "3cfaa6f6-017a-4e20-927b-aa37d7e78d26",
   "metadata": {},
   "source": [
    "### What was the breakdown of reasons for each day of the week?"
   ]
  },
  {
   "cell_type": "code",
   "execution_count": 23,
   "id": "c8a818bf-dd82-42c0-bfd7-6e75666ae943",
   "metadata": {},
   "outputs": [
    {
     "data": {
      "text/plain": [
       "DAY_OF_WEEK  CANCELLATION_REASON     \n",
       "Friday       Weather                     44.848347\n",
       "             Carrier                     38.657276\n",
       "             National Aviation System    16.437578\n",
       "             Security                     0.056799\n",
       "Monday       Weather                     60.278200\n",
       "             Carrier                     20.974174\n",
       "             National Aviation System    18.728637\n",
       "             Security                     0.018990\n",
       "Saturday     Weather                     54.242909\n",
       "             Carrier                     30.215005\n",
       "             National Aviation System    15.530650\n",
       "             Security                     0.011436\n",
       "Sunday       Weather                     62.348917\n",
       "             Carrier                     23.177499\n",
       "             National Aviation System    14.473584\n",
       "Thursday     Weather                     47.818655\n",
       "             Carrier                     29.065603\n",
       "             National Aviation System    23.115741\n",
       "Tuesday      Weather                     55.585813\n",
       "             Carrier                     28.991764\n",
       "             National Aviation System    15.395855\n",
       "             Security                     0.026567\n",
       "Wednesday    Weather                     46.501866\n",
       "             Carrier                     35.513060\n",
       "             National Aviation System    17.910448\n",
       "             Security                     0.074627\n",
       "Name: proportion, dtype: float64"
      ]
     },
     "execution_count": 23,
     "metadata": {},
     "output_type": "execute_result"
    }
   ],
   "source": [
    "cancelled.groupby('DAY_OF_WEEK')['CANCELLATION_REASON'].value_counts(normalize=True) * 100 "
   ]
  },
  {
   "cell_type": "markdown",
   "id": "5ca26d87-73a8-4a28-9a55-5369eeb7c51d",
   "metadata": {},
   "source": [
    "### Which month had the most flights cancelled?"
   ]
  },
  {
   "cell_type": "code",
   "execution_count": 24,
   "id": "496308cd-ff32-4b6a-81a2-1fdc6a508398",
   "metadata": {},
   "outputs": [
    {
     "data": {
      "text/plain": [
       "MONTH\n",
       "February     20489\n",
       "January      11978\n",
       "March        11000\n",
       "June          9118\n",
       "December      8060\n",
       "May           5694\n",
       "August        5052\n",
       "July          4804\n",
       "November      4591\n",
       "April         4516\n",
       "October       2451\n",
       "September     2075\n",
       "Name: count, dtype: int64"
      ]
     },
     "execution_count": 24,
     "metadata": {},
     "output_type": "execute_result"
    }
   ],
   "source": [
    "cancelled['MONTH'].value_counts()"
   ]
  },
  {
   "cell_type": "markdown",
   "id": "7a189ca7-2681-4e35-88ab-63d67c5c0fb0",
   "metadata": {},
   "source": [
    "### Which month had the highest percentage of flights cancelled?"
   ]
  },
  {
   "cell_type": "code",
   "execution_count": 25,
   "id": "4ba183f1-8884-4eea-83e9-7067fcea2ce6",
   "metadata": {},
   "outputs": [
    {
     "data": {
      "text/plain": [
       "MONTH\n",
       "February     4.779088\n",
       "January      2.551486\n",
       "March        2.183549\n",
       "June         1.811219\n",
       "December     1.683175\n",
       "May          1.146819\n",
       "August       0.990443\n",
       "November     0.981946\n",
       "April        0.931743\n",
       "July         0.923455\n",
       "October      0.504608\n",
       "September    0.446629\n",
       "Name: CANCELLATION_REASON, dtype: float64"
      ]
     },
     "execution_count": 25,
     "metadata": {},
     "output_type": "execute_result"
    }
   ],
   "source": [
    "(flights.groupby('MONTH')['CANCELLATION_REASON']\n",
    "    .apply(lambda x: 100 * x.notnull().sum() / len(x))\n",
    "    .sort_values(ascending=False)\n",
    "    .head(20)\n",
    ")"
   ]
  },
  {
   "cell_type": "code",
   "execution_count": 26,
   "id": "cc14fc0e-a33e-47ca-879b-ce4e783352fc",
   "metadata": {},
   "outputs": [
    {
     "data": {
      "image/png": "[encoded data removed]",
      "text/plain": [
       "<Figure size 640x480 with 1 Axes>"
      ]
     },
     "metadata": {},
     "output_type": "display_data"
    }
   ],
   "source": [
    "monthcancelpct = (flights.groupby('MONTH')['CANCELLATION_REASON']\n",
    "    .apply(lambda x: 100 * x.notnull().sum() / len(x))\n",
    "    .sort_values(ascending=False)\n",
    "    .head(20)\n",
    ")\n",
    "\n",
    "plt.bar(monthcancelpct.index, monthcancelpct.values)\n",
    "plt.xlabel('Month')\n",
    "plt.ylabel('Percentage of flights cancelled')\n",
    "plt.xticks(rotation=45, ha='right')\n",
    "plt.title('Percentage of flights cancelled for each month')\n",
    "plt.savefig('Percentage of flights cancelled for each month.png', bbox_inches='tight')\n",
    "plt.show()"
   ]
  },
  {
   "cell_type": "markdown",
   "id": "d202ac36-6014-40ce-ba0e-ec40e6d74600",
   "metadata": {},
   "source": [
    "### What was the breakdown of reasons for each month?"
   ]
  },
  {
   "cell_type": "code",
   "execution_count": 27,
   "id": "840e668b-b716-4c4b-8943-162cc3620d75",
   "metadata": {},
   "outputs": [
    {
     "data": {
      "text/plain": [
       "MONTH      CANCELLATION_REASON     \n",
       "April      Carrier                     39.769708\n",
       "           Weather                     39.592560\n",
       "           National Aviation System    20.637733\n",
       "August     Carrier                     46.793349\n",
       "           National Aviation System    27.236738\n",
       "           Weather                     25.930325\n",
       "           Security                     0.039588\n",
       "December   Weather                     69.615385\n",
       "           Carrier                     19.590571\n",
       "           National Aviation System    10.794045\n",
       "February   Weather                     75.284299\n",
       "           Carrier                     13.734199\n",
       "           National Aviation System    10.976622\n",
       "           Security                     0.004881\n",
       "January    Weather                     58.607447\n",
       "           Carrier                     23.993989\n",
       "           National Aviation System    17.390215\n",
       "           Security                     0.008349\n",
       "July       Carrier                     53.830142\n",
       "           National Aviation System    27.789342\n",
       "           Weather                     18.359700\n",
       "           Security                     0.020816\n",
       "June       Carrier                     39.690722\n",
       "           Weather                     36.455363\n",
       "           National Aviation System    23.853915\n",
       "March      Weather                     62.400000\n",
       "           Carrier                     22.672727\n",
       "           National Aviation System    14.881818\n",
       "           Security                     0.045455\n",
       "May        Weather                     48.823323\n",
       "           Carrier                     35.247629\n",
       "           National Aviation System    15.911486\n",
       "           Security                     0.017562\n",
       "November   Weather                     50.816816\n",
       "           National Aviation System    25.353953\n",
       "           Carrier                     23.589632\n",
       "           Security                     0.239599\n",
       "October    Weather                     39.861281\n",
       "           Carrier                     38.800490\n",
       "           National Aviation System    21.338229\n",
       "September  Carrier                     52.433735\n",
       "           Weather                     24.337349\n",
       "           National Aviation System    23.228916\n",
       "Name: proportion, dtype: float64"
      ]
     },
     "execution_count": 27,
     "metadata": {},
     "output_type": "execute_result"
    }
   ],
   "source": [
    "cancelled.groupby('MONTH')['CANCELLATION_REASON'].value_counts(normalize=True) * 100"
   ]
  },
  {
   "cell_type": "markdown",
   "id": "29a65cdf-5732-4c02-b06b-0c841ea29213",
   "metadata": {},
   "source": [
    "### February had the most cancellations of any month. Which days in February saw the most?"
   ]
  },
  {
   "cell_type": "code",
   "execution_count": 28,
   "id": "a44a99ca-7d9a-444d-abc1-a7f7dda8e9e5",
   "metadata": {},
   "outputs": [
    {
     "data": {
      "text/plain": [
       "DAY_OF_MONTH\n",
       "2     2799\n",
       "1     1979\n",
       "15    1373\n",
       "23    1319\n",
       "9     1255\n",
       "25    1185\n",
       "16    1178\n",
       "28    1170\n",
       "21     934\n",
       "17     866\n",
       "27     809\n",
       "26     771\n",
       "24     771\n",
       "22     748\n",
       "3      599\n",
       "8      471\n",
       "14     456\n",
       "5      367\n",
       "20     303\n",
       "4      262\n",
       "6      231\n",
       "10     186\n",
       "18     143\n",
       "19     118\n",
       "7       63\n",
       "13      49\n",
       "11      47\n",
       "12      37\n",
       "Name: count, dtype: int64"
      ]
     },
     "execution_count": 28,
     "metadata": {},
     "output_type": "execute_result"
    }
   ],
   "source": [
    "february = cancelled[cancelled['MONTH'].str.contains('February')]\n",
    "february['DAY_OF_MONTH'].value_counts()"
   ]
  },
  {
   "cell_type": "markdown",
   "id": "05f1be52-2e4a-42fe-860f-aaa91e8c7405",
   "metadata": {},
   "source": [
    "# BY REASON: CARRIER"
   ]
  },
  {
   "cell_type": "code",
   "execution_count": 29,
   "id": "f57d1d07-f23b-4607-a5ac-db0c592133a4",
   "metadata": {},
   "outputs": [],
   "source": [
    "reason_carrier = cancelled[cancelled['CANCELLATION_REASON'].str.contains('Carrier')]"
   ]
  },
  {
   "cell_type": "markdown",
   "id": "07b33509-09ac-4283-b05b-b5045739865a",
   "metadata": {},
   "source": [
    "### How many cancellations per airline were due to the carrier?"
   ]
  },
  {
   "cell_type": "code",
   "execution_count": 30,
   "id": "dcc72f33-24cc-479f-8733-4c3451676dc1",
   "metadata": {},
   "outputs": [
    {
     "data": {
      "text/plain": [
       "AIRLINE\n",
       "Southwest         6122\n",
       "ExpressJet        3604\n",
       "SkyWest           3198\n",
       "American          2879\n",
       "United            2870\n",
       "American Eagle    2475\n",
       "US Airways        1007\n",
       "JetBlue            883\n",
       "Spirit             654\n",
       "Delta              594\n",
       "Alaska             334\n",
       "Frontier           308\n",
       "Hawaiian           170\n",
       "Virgin America     157\n",
       "Name: count, dtype: int64"
      ]
     },
     "execution_count": 30,
     "metadata": {},
     "output_type": "execute_result"
    }
   ],
   "source": [
    "reason_carrier['AIRLINE'].value_counts()"
   ]
  },
  {
   "cell_type": "code",
   "execution_count": 31,
   "id": "32376713-248d-47d3-8e6e-925d0a552547",
   "metadata": {},
   "outputs": [
    {
     "data": {
      "text/plain": [
       "ORIGIN_AIRPORT\n",
       "Dallas-Fort Worth International Airport    1546\n",
       "Chicago O'Hare International Airport       1465\n",
       "Los Angeles International Airport          1347\n",
       "Laguardia Airport                          1205\n",
       "San Francisco International Airport         910\n",
       "                                           ... \n",
       "Mammoth Yosemite Airport                      1\n",
       "Guam International Airport                    1\n",
       "St Cloud Regional Airport                     1\n",
       "Greater Binghamton/Edwin A Link Field         1\n",
       "Bert Mooney Airport                           1\n",
       "Name: count, Length: 307, dtype: int64"
      ]
     },
     "execution_count": 31,
     "metadata": {},
     "output_type": "execute_result"
    }
   ],
   "source": [
    "reason_carrier['ORIGIN_AIRPORT'].value_counts()"
   ]
  },
  {
   "cell_type": "code",
   "execution_count": 32,
   "id": "c8d692e7-f120-4d6f-a03a-0141dc2da68b",
   "metadata": {},
   "outputs": [
    {
     "data": {
      "text/plain": [
       "DESTINATION_AIRPORT\n",
       "Dallas-Fort Worth International Airport    1964\n",
       "Chicago O'Hare International Airport       1939\n",
       "Los Angeles International Airport          1376\n",
       "Laguardia Airport                          1186\n",
       "San Francisco International Airport        1029\n",
       "                                           ... \n",
       "Columbus Airport                              1\n",
       "Bangor International Airport                  1\n",
       "Northeast Wyoming Regional Airport            1\n",
       "Mercedita Airport                             1\n",
       "Ralph Wien Memorial Airport                   1\n",
       "Name: count, Length: 296, dtype: int64"
      ]
     },
     "execution_count": 32,
     "metadata": {},
     "output_type": "execute_result"
    }
   ],
   "source": [
    "reason_carrier['DESTINATION_AIRPORT'].value_counts()"
   ]
  },
  {
   "cell_type": "code",
   "execution_count": 33,
   "id": "93243d04-bf09-4ed2-8492-df9e156855b3",
   "metadata": {},
   "outputs": [
    {
     "data": {
      "text/plain": [
       "MONTH\n",
       "June         3619\n",
       "January      2874\n",
       "February     2814\n",
       "July         2586\n",
       "March        2494\n",
       "August       2364\n",
       "May          2007\n",
       "April        1796\n",
       "December     1579\n",
       "September    1088\n",
       "November     1083\n",
       "October       951\n",
       "Name: count, dtype: int64"
      ]
     },
     "execution_count": 33,
     "metadata": {},
     "output_type": "execute_result"
    }
   ],
   "source": [
    "reason_carrier['MONTH'].value_counts()"
   ]
  },
  {
   "cell_type": "markdown",
   "id": "4eaafd05-c414-4738-ad37-760c1c0fa61d",
   "metadata": {},
   "source": [
    "# BY REASON: WEATHER"
   ]
  },
  {
   "cell_type": "code",
   "execution_count": 34,
   "id": "fc73df0a-9e0b-49fa-b1a9-428b44b3542c",
   "metadata": {},
   "outputs": [],
   "source": [
    "reason_weather = cancelled[cancelled['CANCELLATION_REASON'].str.contains('Weather')]"
   ]
  },
  {
   "cell_type": "markdown",
   "id": "633f7917-5c46-4b0e-b402-4c686dddac88",
   "metadata": {},
   "source": [
    "### How many cancellations per airline were due to weather?"
   ]
  },
  {
   "cell_type": "code",
   "execution_count": 35,
   "id": "785ee0e2-f578-4d0c-9de8-626aa1e8d393",
   "metadata": {},
   "outputs": [
    {
     "data": {
      "text/plain": [
       "AIRLINE\n",
       "American Eagle    9164\n",
       "Southwest         8843\n",
       "American          7306\n",
       "SkyWest           5517\n",
       "ExpressJet        5072\n",
       "United            3312\n",
       "Delta             2973\n",
       "US Airways        2490\n",
       "JetBlue           2464\n",
       "Spirit            1068\n",
       "Alaska             317\n",
       "Frontier           280\n",
       "Virgin America      12\n",
       "Hawaiian             1\n",
       "Name: count, dtype: int64"
      ]
     },
     "execution_count": 35,
     "metadata": {},
     "output_type": "execute_result"
    }
   ],
   "source": [
    "reason_weather['AIRLINE'].value_counts()"
   ]
  },
  {
   "cell_type": "markdown",
   "id": "53945757-ea8c-438e-872e-974fcae8f9b9",
   "metadata": {},
   "source": [
    "### How many arriving flights were cancelled per airport due to weather?"
   ]
  },
  {
   "cell_type": "code",
   "execution_count": 36,
   "id": "e0b8cea0-659a-400e-af60-6d56ae10cac2",
   "metadata": {},
   "outputs": [
    {
     "data": {
      "text/plain": [
       "DESTINATION_AIRPORT\n",
       "Dallas-Fort Worth International Airport                         5061\n",
       "Chicago O'Hare International Airport                            4958\n",
       "Laguardia Airport                                               2102\n",
       "General Edward Lawrence Logan International Airport             1879\n",
       "Hartsfield - Jackson Atlanta International Airport              1785\n",
       "Denver International Airport                                    1413\n",
       "Chicago Midway International Airport                            1376\n",
       "George Bush Intcntl/Houston Airport                             1324\n",
       "Newark Liberty International Airport                            1244\n",
       "John F Kennedy International Airport                            1106\n",
       "Ronald Reagan Washington Ntl Airport                            1044\n",
       "Baltimore/Washington International Thurgood Marshall Airport    1023\n",
       "San Francisco International Airport                              960\n",
       "Philadelphia International Airport                               753\n",
       "Detroit Metro Wayne County Airport                               734\n",
       "Charlotte/Douglas International Airport                          727\n",
       "Los Angeles International Airport                                692\n",
       "Orlando International Airport                                    672\n",
       "Nashville International Airport                                  657\n",
       "Fort Lauderdale/Hollywood International Airport                  521\n",
       "Name: count, dtype: int64"
      ]
     },
     "execution_count": 36,
     "metadata": {},
     "output_type": "execute_result"
    }
   ],
   "source": [
    "reason_weather['DESTINATION_AIRPORT'].value_counts()[:20]"
   ]
  },
  {
   "cell_type": "markdown",
   "id": "9331f624-8f57-4bfe-92a9-dbd1d92ebb22",
   "metadata": {},
   "source": [
    "### How many outbound flights were cancelled per airport due to weather?"
   ]
  },
  {
   "cell_type": "code",
   "execution_count": 37,
   "id": "d318b5f4-4ec7-4d00-8ced-3c2fb159d31e",
   "metadata": {},
   "outputs": [
    {
     "data": {
      "text/plain": [
       "ORIGIN_AIRPORT\n",
       "Dallas-Fort Worth International Airport                         4984\n",
       "Chicago O'Hare International Airport                            4788\n",
       "Laguardia Airport                                               2205\n",
       "General Edward Lawrence Logan International Airport             1885\n",
       "Hartsfield - Jackson Atlanta International Airport              1716\n",
       "Chicago Midway International Airport                            1448\n",
       "Denver International Airport                                    1381\n",
       "George Bush Intcntl/Houston Airport                             1227\n",
       "Newark Liberty International Airport                            1169\n",
       "John F Kennedy International Airport                            1106\n",
       "Ronald Reagan Washington Ntl Airport                            1080\n",
       "Baltimore/Washington International Thurgood Marshall Airport    1042\n",
       "San Francisco International Airport                              911\n",
       "Philadelphia International Airport                               764\n",
       "Charlotte/Douglas International Airport                          696\n",
       "Nashville International Airport                                  690\n",
       "Detroit Metro Wayne County Airport                               687\n",
       "Orlando International Airport                                    663\n",
       "Los Angeles International Airport                                622\n",
       "Fort Lauderdale/Hollywood International Airport                  492\n",
       "Name: count, dtype: int64"
      ]
     },
     "execution_count": 37,
     "metadata": {},
     "output_type": "execute_result"
    }
   ],
   "source": [
    "reason_weather['ORIGIN_AIRPORT'].value_counts()[:20]"
   ]
  },
  {
   "cell_type": "code",
   "execution_count": 38,
   "id": "cbac0b38-2bed-46e5-8206-af41bffca99e",
   "metadata": {},
   "outputs": [
    {
     "data": {
      "text/plain": [
       "MONTH\n",
       "February     15425\n",
       "January       7020\n",
       "March         6864\n",
       "December      5611\n",
       "June          3324\n",
       "May           2780\n",
       "November      2333\n",
       "April         1788\n",
       "August        1310\n",
       "October        977\n",
       "July           882\n",
       "September      505\n",
       "Name: count, dtype: int64"
      ]
     },
     "execution_count": 38,
     "metadata": {},
     "output_type": "execute_result"
    }
   ],
   "source": [
    "reason_weather['MONTH'].value_counts()"
   ]
  },
  {
   "cell_type": "markdown",
   "id": "27f9b226-6e78-4e1d-8c65-1fb4ac0e871c",
   "metadata": {},
   "source": [
    "# BY REASON: NATIONAL AVIATION SYSTEM"
   ]
  },
  {
   "cell_type": "code",
   "execution_count": 39,
   "id": "c3300e34-79f0-4a68-9964-0cd08fd6c24d",
   "metadata": {},
   "outputs": [],
   "source": [
    "reason_nas = cancelled[cancelled['CANCELLATION_REASON'].str.contains('National Aviation System')]"
   ]
  },
  {
   "cell_type": "markdown",
   "id": "e561f822-dd98-41c8-9a81-3a123d97dccf",
   "metadata": {},
   "source": [
    "### How many cancellations per airline were due to NAS?"
   ]
  },
  {
   "cell_type": "code",
   "execution_count": 40,
   "id": "53d3c04c-7490-4428-a2d0-f2b29c2f93c3",
   "metadata": {},
   "outputs": [
    {
     "data": {
      "text/plain": [
       "AIRLINE\n",
       "ExpressJet        6535\n",
       "American Eagle    3385\n",
       "SkyWest           1208\n",
       "Southwest         1066\n",
       "JetBlue            928\n",
       "American           730\n",
       "US Airways         570\n",
       "United             391\n",
       "Virgin America     365\n",
       "Spirit             279\n",
       "Delta              257\n",
       "Alaska              18\n",
       "Name: count, dtype: int64"
      ]
     },
     "execution_count": 40,
     "metadata": {},
     "output_type": "execute_result"
    }
   ],
   "source": [
    "reason_nas['AIRLINE'].value_counts()"
   ]
  },
  {
   "cell_type": "code",
   "execution_count": 41,
   "id": "6056e9a5-8c9a-47e5-a40b-a8953b96d979",
   "metadata": {},
   "outputs": [
    {
     "data": {
      "text/plain": [
       "DESTINATION_AIRPORT\n",
       "Chicago O'Hare International Airport                2453\n",
       "Newark Liberty International Airport                1736\n",
       "Laguardia Airport                                   1245\n",
       "George Bush Intcntl/Houston Airport                  567\n",
       "John F Kennedy International Airport                 544\n",
       "                                                    ... \n",
       "Henry E Rohlsen Airport                                1\n",
       "Columbus Airport                                       1\n",
       "Yellowstone Regional Airport                           1\n",
       "Idaho Falls Regional Airport                           1\n",
       "California Redwood Coast-Humboldt County Airport       1\n",
       "Name: count, Length: 241, dtype: int64"
      ]
     },
     "execution_count": 41,
     "metadata": {},
     "output_type": "execute_result"
    }
   ],
   "source": [
    "reason_nas['DESTINATION_AIRPORT'].value_counts()"
   ]
  },
  {
   "cell_type": "code",
   "execution_count": 42,
   "id": "607d3149-4a08-4398-8fbf-15c516602880",
   "metadata": {},
   "outputs": [
    {
     "data": {
      "text/plain": [
       "ORIGIN_AIRPORT\n",
       "Chicago O'Hare International Airport    2345\n",
       "Newark Liberty International Airport    1654\n",
       "Laguardia Airport                       1245\n",
       "John F Kennedy International Airport     547\n",
       "George Bush Intcntl/Houston Airport      488\n",
       "                                        ... \n",
       "Garden City Regional Airport               1\n",
       "Central Nebraska Regional Airport          1\n",
       "Laramie Regional Airport                   1\n",
       "Yuma Mcas/Yuma International Airport       1\n",
       "Mammoth Yosemite Airport                   1\n",
       "Name: count, Length: 243, dtype: int64"
      ]
     },
     "execution_count": 42,
     "metadata": {},
     "output_type": "execute_result"
    }
   ],
   "source": [
    "reason_nas['ORIGIN_AIRPORT'].value_counts()"
   ]
  },
  {
   "cell_type": "code",
   "execution_count": 43,
   "id": "d432c3bf-1e23-4206-a09b-612549c9b0cc",
   "metadata": {},
   "outputs": [
    {
     "data": {
      "text/plain": [
       "MONTH\n",
       "February     2249\n",
       "June         2175\n",
       "January      2083\n",
       "March        1637\n",
       "August       1376\n",
       "July         1335\n",
       "November     1164\n",
       "April         932\n",
       "May           906\n",
       "December      870\n",
       "October       523\n",
       "September     482\n",
       "Name: count, dtype: int64"
      ]
     },
     "execution_count": 43,
     "metadata": {},
     "output_type": "execute_result"
    }
   ],
   "source": [
    "reason_nas['MONTH'].value_counts()"
   ]
  },
  {
   "cell_type": "markdown",
   "id": "906537c6-d78a-483b-96b7-2579dc5fed76",
   "metadata": {},
   "source": [
    "##### What happened in June? Clearly not winter weather related. Can we find a particular day in June with a lot of NAS cancellations?"
   ]
  },
  {
   "cell_type": "code",
   "execution_count": 44,
   "id": "34e1dc73-56ef-41b9-b89d-a002991526ba",
   "metadata": {},
   "outputs": [
    {
     "data": {
      "text/plain": [
       "DAY_OF_MONTH\n",
       "15    419\n",
       "22    238\n",
       "1     226\n",
       "8     200\n",
       "23    190\n",
       "16    190\n",
       "17    132\n",
       "12     82\n",
       "30     77\n",
       "7      58\n",
       "20     55\n",
       "9      47\n",
       "18     45\n",
       "2      33\n",
       "24     24\n",
       "14     24\n",
       "19     17\n",
       "27     17\n",
       "5      13\n",
       "13     12\n",
       "26     10\n",
       "21     10\n",
       "4      10\n",
       "11      9\n",
       "25      8\n",
       "3       6\n",
       "10      6\n",
       "28      6\n",
       "29      6\n",
       "6       5\n",
       "Name: count, dtype: int64"
      ]
     },
     "execution_count": 44,
     "metadata": {},
     "output_type": "execute_result"
    }
   ],
   "source": [
    "june_nas = reason_nas.loc[reason_nas['MONTH'] == \"June\"]\n",
    "june_nas['DAY_OF_MONTH'].value_counts()"
   ]
  },
  {
   "cell_type": "markdown",
   "id": "dc4843f5-eee5-431a-bd05-a0e1eebc6973",
   "metadata": {},
   "source": [
    "### The four top days in June for NAS cancellations were all Mondays. Does this trend persist throughout the entire year?"
   ]
  },
  {
   "cell_type": "code",
   "execution_count": 45,
   "id": "2c072924-79a8-48d1-8eaf-077a11d94811",
   "metadata": {},
   "outputs": [
    {
     "data": {
      "text/plain": [
       "DAY_OF_WEEK\n",
       "Monday       3945\n",
       "Thursday     2840\n",
       "Tuesday      2318\n",
       "Wednesday    1920\n",
       "Sunday       1904\n",
       "Friday       1447\n",
       "Saturday     1358\n",
       "Name: count, dtype: int64"
      ]
     },
     "execution_count": 45,
     "metadata": {},
     "output_type": "execute_result"
    }
   ],
   "source": [
    "reason_nas['DAY_OF_WEEK'].value_counts()"
   ]
  },
  {
   "cell_type": "code",
   "execution_count": 77,
   "id": "523de7fa-a8f1-4bf7-823a-2a439a879021",
   "metadata": {},
   "outputs": [
    {
     "data": {
      "text/plain": [
       "AIRLINE\n",
       "American Eagle    18.971155\n",
       "Southwest         16.857826\n",
       "ExpressJet        14.593196\n",
       "American          12.465225\n",
       "Delta              8.277612\n",
       "US Airways         7.682171\n",
       "SkyWest            6.769486\n",
       "JetBlue            6.325345\n",
       "United             4.909952\n",
       "Spirit             1.298258\n",
       "Virgin America     0.756503\n",
       "Alaska             0.551515\n",
       "Frontier           0.527112\n",
       "Hawaiian           0.014642\n",
       "Name: proportion, dtype: float64"
      ]
     },
     "execution_count": 77,
     "metadata": {},
     "output_type": "execute_result"
    }
   ],
   "source": [
    "february = cancelled.loc[cancelled['MONTH'] == 'February']\n",
    "february['AIRLINE'].value_counts(normalize=True) * 100"
   ]
  },
  {
   "cell_type": "code",
   "execution_count": null,
   "id": "99f3d5e2-826f-425d-b0ed-40432d1c2fce",
   "metadata": {},
   "outputs": [],
   "source": []
  }
 ],
 "metadata": {
  "kernelspec": {
   "display_name": "Python 3 (ipykernel)",
   "language": "python",
   "name": "python3"
  },
  "language_info": {
   "codemirror_mode": {
    "name": "ipython",
    "version": 3
   },
   "file_extension": ".py",
   "mimetype": "text/x-python",
   "name": "python",
   "nbconvert_exporter": "python",
   "pygments_lexer": "ipython3",
   "version": "3.12.4"
  }
 },
 "nbformat": 4,
 "nbformat_minor": 5
}
